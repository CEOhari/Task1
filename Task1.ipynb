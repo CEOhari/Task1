{
  "nbformat": 4,
  "nbformat_minor": 0,
  "metadata": {
    "colab": {
      "provenance": []
    },
    "kernelspec": {
      "name": "python3",
      "display_name": "Python 3"
    },
    "language_info": {
      "name": "python"
    }
  },
  "cells": [
    {
      "cell_type": "code",
      "execution_count": null,
      "metadata": {
        "id": "ppfZ6M1AjfZV",
        "colab": {
          "base_uri": "https://localhost:8080/"
        },
        "outputId": "5a7a3be2-372a-4db1-b36a-d32afd3901f7"
      },
      "outputs": [
        {
          "output_type": "stream",
          "name": "stdout",
          "text": [
            "10\n"
          ]
        }
      ],
      "source": [
        "x=10\n",
        "print(x)"
      ]
    },
    {
      "cell_type": "code",
      "source": [
        "x=10\n",
        "y=x*2\n",
        "#y=20\n",
        "\"\"\"Hari\"\"\"\n",
        "z=y+5 #z,x,y =operands. + = operat(print(Z)\n"
      ],
      "metadata": {
        "id": "sqcHOW_OXcTq"
      },
      "execution_count": null,
      "outputs": []
    },
    {
      "cell_type": "code",
      "source": [
        "# Integer\n",
        "\n",
        "age=25\n",
        "print('age:',age)\n",
        "#name=\"hari12\""
      ],
      "metadata": {
        "colab": {
          "base_uri": "https://localhost:8080/"
        },
        "id": "vRmg2jUfYEPE",
        "outputId": "2c4c81bf-67ce-4db2-b70c-e39355a4c697"
      },
      "execution_count": null,
      "outputs": [
        {
          "output_type": "stream",
          "name": "stdout",
          "text": [
            "age: 25\n"
          ]
        }
      ]
    },
    {
      "cell_type": "code",
      "source": [
        "#float\n",
        "\n",
        "Temperature=36.6\n",
        "print(Temperature)\n"
      ],
      "metadata": {
        "colab": {
          "base_uri": "https://localhost:8080/"
        },
        "id": "Rwee8oBeYYr4",
        "outputId": "d845555b-d4a9-443d-801d-7f0c887addde"
      },
      "execution_count": null,
      "outputs": [
        {
          "output_type": "stream",
          "name": "stdout",
          "text": [
            "36.6\n"
          ]
        }
      ]
    },
    {
      "cell_type": "code",
      "source": [
        "#string\n",
        "name=\"hari ram\"\n",
        "print(name)\n"
      ],
      "metadata": {
        "colab": {
          "base_uri": "https://localhost:8080/"
        },
        "id": "UfXJCVCFYvCr",
        "outputId": "35a4c084-4348-4bff-e85d-334355794529"
      },
      "execution_count": null,
      "outputs": [
        {
          "output_type": "stream",
          "name": "stdout",
          "text": [
            "hari ram\n"
          ]
        }
      ]
    },
    {
      "cell_type": "code",
      "source": [
        "[]a,b,c,d=10,\"hi\",12.34,True\n",
        "[]type(a)\n"
      ],
      "metadata": {
        "colab": {
          "base_uri": "https://localhost:8080/",
          "height": 110
        },
        "id": "dLi0LAwNY9qa",
        "outputId": "ca1d49d1-6a5b-4a10-ec02-6273133c0061"
      },
      "execution_count": null,
      "outputs": [
        {
          "output_type": "error",
          "ename": "SyntaxError",
          "evalue": "invalid syntax (<ipython-input-16-ccbbf17497b6>, line 1)",
          "traceback": [
            "\u001b[0;36m  File \u001b[0;32m\"<ipython-input-16-ccbbf17497b6>\"\u001b[0;36m, line \u001b[0;32m1\u001b[0m\n\u001b[0;31m    []a,b,c,d=10,\"hi\",12.34,True\u001b[0m\n\u001b[0m      ^\u001b[0m\n\u001b[0;31mSyntaxError\u001b[0m\u001b[0;31m:\u001b[0m invalid syntax\n"
          ]
        }
      ]
    },
    {
      "cell_type": "code",
      "source": [
        "[] print('a:,a,type(a))"
      ],
      "metadata": {
        "colab": {
          "base_uri": "https://localhost:8080/",
          "height": 110
        },
        "id": "oE3kOHORZ9Qr",
        "outputId": "6a725613-a38b-4085-fbd7-8e8fd4c752e1"
      },
      "execution_count": null,
      "outputs": [
        {
          "output_type": "error",
          "ename": "SyntaxError",
          "evalue": "invalid syntax (<ipython-input-15-0a88ba5f65d3>, line 1)",
          "traceback": [
            "\u001b[0;36m  File \u001b[0;32m\"<ipython-input-15-0a88ba5f65d3>\"\u001b[0;36m, line \u001b[0;32m1\u001b[0m\n\u001b[0;31m    [] print('a:',a,type(a))\u001b[0m\n\u001b[0m       ^\u001b[0m\n\u001b[0;31mSyntaxError\u001b[0m\u001b[0;31m:\u001b[0m invalid syntax\n"
          ]
        }
      ]
    },
    {
      "cell_type": "code",
      "source": [
        "a=10\n",
        "b=20\n",
        "\n",
        "c=a+b\n",
        "d=a-b\n",
        "e=a*b\n",
        "f=a/b\n",
        "g=a%b\n",
        "h=a//b\n",
        "\n",
        "print(\"addition:\\n\",c)\n",
        "print(\"sub:\\t\",d)\n",
        "print(\"mul:\",e)\n",
        "print(\"div:\",f)\n",
        "print(\"Modulo:\",g)\n",
        "print(\"floor:\",h)\n",
        "\n",
        "\n",
        "\n"
      ],
      "metadata": {
        "colab": {
          "base_uri": "https://localhost:8080/"
        },
        "id": "aAPIycLJatAe",
        "outputId": "762f5a8e-1d16-47b1-83bc-7b210aebd46a"
      },
      "execution_count": null,
      "outputs": [
        {
          "output_type": "stream",
          "name": "stdout",
          "text": [
            "addition:\n",
            " 30\n",
            "sub:\t -10\n",
            "mul: 200\n",
            "div: 0.5\n",
            "Modulo: 10\n",
            "floor: 0\n"
          ]
        }
      ]
    },
    {
      "cell_type": "code",
      "source": [
        "# Assignmentoperator\n",
        "\n",
        "a=2\n",
        "\n",
        "a+=2 # a=a+2\n",
        "print(a)\n",
        "a/=2 # a=a-2\n",
        "print(a)\n"
      ],
      "metadata": {
        "colab": {
          "base_uri": "https://localhost:8080/"
        },
        "id": "D2_wZufRbOUf",
        "outputId": "b38e1fff-6247-4ccb-9062-7ef9bde0db69"
      },
      "execution_count": null,
      "outputs": [
        {
          "output_type": "stream",
          "name": "stdout",
          "text": [
            "4\n",
            "2.0\n"
          ]
        }
      ]
    },
    {
      "cell_type": "code",
      "source": [
        "# bitwise operator\n",
        "a=10 # binary representation: 1010\n",
        "a&=2 #=a&2\n",
        "\n",
        "# and .or ,not,xor = logical operator\n",
        "# bitwise operator = and,or,not,xor =work on bit . number will be coverted int\n",
        "a=10\n",
        "b=20\n",
        "if a<b and a!=b: #a<b =true/1, a!=b =true/1 o/p =1\n",
        "  print(\"true\")\n",
        "  \"\"\"\n",
        "  condition for and operator/gate\n",
        "  1=true 1= true o/p =1 true\n",
        "  1=true 0=false o/p =0 false\n",
        "  0=true 1= false o/p =0 false\n",
        "  0=false 0=false o/p =0false\n",
        "  \"\"\"\n",
        "\n",
        "\n"
      ],
      "metadata": {
        "colab": {
          "base_uri": "https://localhost:8080/"
        },
        "id": "z2F7EF8mcKk-",
        "outputId": "fa58066a-8090-4709-beb0-0abd719d0394"
      },
      "execution_count": null,
      "outputs": [
        {
          "output_type": "stream",
          "name": "stdout",
          "text": [
            "true\n"
          ]
        }
      ]
    },
    {
      "cell_type": "code",
      "source": [
        "x=10\n",
        "y=20\n",
        "\n",
        "x_binary=bin(x)\n",
        "y_binary=bin(y)\n",
        "\n",
        "print(f\"binary representation of {x} is {x_binary}\")\n",
        "print(f\"binary representation of {y} is {y_binary}\")\n",
        "\n"
      ],
      "metadata": {
        "colab": {
          "base_uri": "https://localhost:8080/"
        },
        "id": "gLyrnIRmfYat",
        "outputId": "b4937b95-bad8-4302-b8e2-4bd156176587"
      },
      "execution_count": null,
      "outputs": [
        {
          "output_type": "stream",
          "name": "stdout",
          "text": [
            "binary representation of 10 is 0b1010\n",
            "binary representation of 20 is 0b10100\n"
          ]
        }
      ]
    },
    {
      "cell_type": "code",
      "source": [
        "num =10\n",
        "\n",
        "# Convert decimal to binary\n",
        "binary_representation = bin(num)\n",
        "print(binary_representation) #output: 0b1010\n"
      ],
      "metadata": {
        "colab": {
          "base_uri": "https://localhost:8080/"
        },
        "id": "-OZj-xT3gP2f",
        "outputId": "fb1e3ec3-0c76-4ecc-fe76-f72253b13c80"
      },
      "execution_count": null,
      "outputs": [
        {
          "output_type": "stream",
          "name": "stdout",
          "text": [
            "0b1010\n"
          ]
        }
      ]
    },
    {
      "cell_type": "code",
      "source": [
        "#convert decimal to octal\n",
        "\n",
        "octal_representation = oct(num)\n",
        "print(octal_representation) #output: 0o12)\n",
        "\n",
        "# Convert decimal to hexadecimal\n",
        "\n",
        "hexadecimal_representation =hex(num)\n",
        "print(hexadecimal_representation)\n"
      ],
      "metadata": {
        "colab": {
          "base_uri": "https://localhost:8080/"
        },
        "id": "Tunb6SBug17F",
        "outputId": "afdec1b1-bc2f-453d-a1a5-472ed88280bd"
      },
      "execution_count": null,
      "outputs": [
        {
          "output_type": "stream",
          "name": "stdout",
          "text": [
            "0o12\n",
            "0xa\n"
          ]
        }
      ]
    },
    {
      "cell_type": "code",
      "source": [
        "#Conver binary string to decimal\n",
        "binary_string =\"1010\"\n",
        "decimal_from_binary = int(binary_string,2)\n",
        "print(decimal_from_binary)"
      ],
      "metadata": {
        "colab": {
          "base_uri": "https://localhost:8080/"
        },
        "id": "5PtWTHc-idhx",
        "outputId": "f62b806f-c851-4f71-b0d0-8a2343effb0f"
      },
      "execution_count": null,
      "outputs": [
        {
          "output_type": "stream",
          "name": "stdout",
          "text": [
            "10\n"
          ]
        }
      ]
    },
    {
      "cell_type": "code",
      "source": [
        "# Convert octal string to decimal\n",
        "octal_string = \"12\"\n",
        "decimal_from_octal = int(octal_string, 8)\n",
        "print(decimal_from_octal)  # Output: 10\n",
        "\n",
        "# Convert hexadecimal string to decimal\n",
        "hexadecimal_string = \"A\"\n",
        "decimal_from_hexadecimal = int(hexadecimal_string, 16)\n",
        "print(decimal_from_hexadecimal)  # Output: 10\n"
      ],
      "metadata": {
        "colab": {
          "base_uri": "https://localhost:8080/"
        },
        "id": "vPOJREEBjITO",
        "outputId": "98e92522-9c56-423c-9a26-ccf8b4c1c9e7"
      },
      "execution_count": null,
      "outputs": [
        {
          "output_type": "stream",
          "name": "stdout",
          "text": [
            "10\n",
            "10\n"
          ]
        }
      ]
    },
    {
      "cell_type": "code",
      "source": [
        "# Comparison operators\n",
        "\n",
        "a = 10\n",
        "b = 20\n",
        "\n",
        "print(a<b) #true (less than)\n",
        "print(a>b) #false (greater than)\n",
        "print(a<=b) #true (less than or equal to)\n",
        "print(a>=b) #false (greater than of equal to)\n",
        "print(a==b) #false #if the remainder is zero ,it is true or else false\n",
        "print(a!=b) #true ( not equal)"
      ],
      "metadata": {
        "colab": {
          "base_uri": "https://localhost:8080/"
        },
        "id": "y2DmBPfyj8Rk",
        "outputId": "1f957d31-660e-4659-f7da-3ddd9d2be94b"
      },
      "execution_count": null,
      "outputs": [
        {
          "output_type": "stream",
          "name": "stdout",
          "text": [
            "True\n",
            "False\n",
            "True\n",
            "False\n",
            "False\n",
            "True\n"
          ]
        }
      ]
    },
    {
      "cell_type": "code",
      "source": [
        "#binary to decimal_from_binary\n",
        "\n",
        "[] 1 = 2^3 + 0 * 2^2 + 1 * 2^1 + 0 * 2^0"
      ],
      "metadata": {
        "colab": {
          "base_uri": "https://localhost:8080/",
          "height": 110
        },
        "id": "d-21c_hDjNRw",
        "outputId": "56ee05d9-6e8d-4d91-83d4-fbba2e126f62"
      },
      "execution_count": null,
      "outputs": [
        {
          "output_type": "error",
          "ename": "SyntaxError",
          "evalue": "invalid syntax (<ipython-input-15-b04a4c579b9f>, line 3)",
          "traceback": [
            "\u001b[0;36m  File \u001b[0;32m\"<ipython-input-15-b04a4c579b9f>\"\u001b[0;36m, line \u001b[0;32m3\u001b[0m\n\u001b[0;31m    [] 1 = 2^3 + 0 * 2^2 + 1 * 2^1 + 0 * 2^0\u001b[0m\n\u001b[0m       ^\u001b[0m\n\u001b[0;31mSyntaxError\u001b[0m\u001b[0;31m:\u001b[0m invalid syntax\n"
          ]
        }
      ]
    },
    {
      "cell_type": "code",
      "source": [
        "for i in range(1,35):\n",
        "  print(i,\"6=\",i*6)\n",
        ""
      ],
      "metadata": {
        "colab": {
          "base_uri": "https://localhost:8080/"
        },
        "id": "F2iJBxYuEUf9",
        "outputId": "2fa60934-730f-4f97-de6a-7f5a81c10646"
      },
      "execution_count": 1,
      "outputs": [
        {
          "output_type": "stream",
          "name": "stdout",
          "text": [
            "1 6= 6\n",
            "2 6= 12\n",
            "3 6= 18\n",
            "4 6= 24\n",
            "5 6= 30\n",
            "6 6= 36\n",
            "7 6= 42\n",
            "8 6= 48\n",
            "9 6= 54\n",
            "10 6= 60\n",
            "11 6= 66\n",
            "12 6= 72\n",
            "13 6= 78\n",
            "14 6= 84\n",
            "15 6= 90\n",
            "16 6= 96\n",
            "17 6= 102\n",
            "18 6= 108\n",
            "19 6= 114\n",
            "20 6= 120\n",
            "21 6= 126\n",
            "22 6= 132\n",
            "23 6= 138\n",
            "24 6= 144\n",
            "25 6= 150\n",
            "26 6= 156\n",
            "27 6= 162\n",
            "28 6= 168\n",
            "29 6= 174\n",
            "30 6= 180\n",
            "31 6= 186\n",
            "32 6= 192\n",
            "33 6= 198\n",
            "34 6= 204\n"
          ]
        }
      ]
    },
    {
      "cell_type": "code",
      "source": [
        "a=int(input(\"enter a number a=\"))\n",
        "b=int(input(\"enter a number b=\"))\n",
        "print(a+b)\n",
        "print(a*b)\n",
        "print(a-b)\n",
        "print(a%b)\n"
      ],
      "metadata": {
        "colab": {
          "base_uri": "https://localhost:8080/"
        },
        "id": "_c7h8oUoSuFP",
        "outputId": "28dfa1cf-5704-4cb0-c56a-866625d99acf"
      },
      "execution_count": 2,
      "outputs": [
        {
          "output_type": "stream",
          "name": "stdout",
          "text": [
            "enter a number a=10\n",
            "enter a number b=23\n",
            "33\n",
            "230\n",
            "-13\n",
            "10\n"
          ]
        }
      ]
    },
    {
      "cell_type": "code",
      "source": [
        "a=\"hello world\"\n",
        "b=1.2\n",
        "c=2\n",
        "\n",
        "print(type(a))\n",
        "print(type(b))\n",
        "print(type(c))\n",
        "\n"
      ],
      "metadata": {
        "colab": {
          "base_uri": "https://localhost:8080/"
        },
        "id": "9zPv50nZTs-2",
        "outputId": "be08f960-630e-4048-e0e9-7a3d2c3c9d4f"
      },
      "execution_count": 3,
      "outputs": [
        {
          "output_type": "stream",
          "name": "stdout",
          "text": [
            "<class 'str'>\n",
            "<class 'float'>\n",
            "<class 'int'>\n"
          ]
        }
      ]
    },
    {
      "cell_type": "code",
      "source": [
        "user_name=input(\"enter your user name:\")\n",
        "password=input(\"enter you password:\")\n",
        "confirm=input(\"re-enter your password:\")\n",
        "if password==confirm:\n",
        "  print(\"Account create Successfully:\")\n",
        "else:\n",
        "  print(\"user name or password incorrect\")\n",
        ""
      ],
      "metadata": {
        "colab": {
          "base_uri": "https://localhost:8080/"
        },
        "id": "sNtDsnPeVIv1",
        "outputId": "14cc6154-129f-44b8-c668-8a7e4555513f"
      },
      "execution_count": 6,
      "outputs": [
        {
          "output_type": "stream",
          "name": "stdout",
          "text": [
            "enter your user name:hari\n",
            "enter you password:ram\n",
            "re-enter your password:ram\n",
            "Account create Successfully:\n"
          ]
        }
      ]
    },
    {
      "cell_type": "code",
      "source": [
        "server_user=\"admin\"\n",
        "server_password=\"admin123\"\n",
        "user_name=input(\"enter your user name:\")\n",
        "password=input(\"enter you password:\")\n",
        "if password==server_password and server_user==user_name:\n",
        " print(\"successfully loged into your account \")\n",
        "\n",
        "else:\n",
        "  print(\"user name or passwor incorrect\")\n"
      ],
      "metadata": {
        "colab": {
          "base_uri": "https://localhost:8080/"
        },
        "id": "CyHYHECxWVuL",
        "outputId": "a52d7b93-c4f5-4913-a99c-cacedbb3a5d1"
      },
      "execution_count": 16,
      "outputs": [
        {
          "output_type": "stream",
          "name": "stdout",
          "text": [
            "enter your user name:hari\n",
            "enter you password:hari\n",
            "user name or passwor incorrect\n"
          ]
        }
      ]
    },
    {
      "cell_type": "code",
      "source": [
        "a=int(input(\"enter first number: \" ))\n",
        "b=int(input(\"enter the second number: \"))\n",
        "c=int(input (\"enter third number: \"))\n",
        "\n",
        "if a>b:\n",
        "    if a>c:\n",
        "        if b>c:\n",
        "            print(\" second largest number is \",b)\n",
        "        else:\n",
        "            print(\"second largest number is \",c)\n",
        "    else:\n",
        "        print(\"second largest number is \",c)\n",
        "else:\n",
        "    if b>c:\n",
        "        if a>c:\n",
        "            print(\"second largest number is \",a)\n",
        "        else:\n",
        "            print(\"second largest number is \",c)"
      ],
      "metadata": {
        "colab": {
          "base_uri": "https://localhost:8080/"
        },
        "id": "gnJPP5lfX7Gp",
        "outputId": "7462d717-0666-4680-8c19-a3affb8cab6d"
      },
      "execution_count": 17,
      "outputs": [
        {
          "name": "stdout",
          "output_type": "stream",
          "text": [
            "enter first number: 10\n",
            "enter the second number: 11\n",
            "enter third number: 33\n"
          ]
        }
      ]
    },
    {
      "cell_type": "code",
      "source": [
        "for i in range(0,10):\n",
        "    print(i*\"*\")"
      ],
      "metadata": {
        "colab": {
          "base_uri": "https://localhost:8080/"
        },
        "id": "i7gIrltCYLwf",
        "outputId": "fea02814-d836-4457-8420-0ba55946d41f"
      },
      "execution_count": 18,
      "outputs": [
        {
          "output_type": "stream",
          "name": "stdout",
          "text": [
            "\n",
            "*\n",
            "**\n",
            "***\n",
            "****\n",
            "*****\n",
            "******\n",
            "*******\n",
            "********\n",
            "*********\n"
          ]
        }
      ]
    },
    {
      "cell_type": "code",
      "source": [
        "for i in range(0,11):\n",
        "    print(\"Hari\")"
      ],
      "metadata": {
        "colab": {
          "base_uri": "https://localhost:8080/"
        },
        "id": "xUPupIf2YQwq",
        "outputId": "3c4cc249-cc53-476a-81cf-dcd341ef89b9"
      },
      "execution_count": 20,
      "outputs": [
        {
          "output_type": "stream",
          "name": "stdout",
          "text": [
            "Hari\n",
            "Hari\n",
            "Hari\n",
            "Hari\n",
            "Hari\n",
            "Hari\n",
            "Hari\n",
            "Hari\n",
            "Hari\n",
            "Hari\n",
            "Hari\n"
          ]
        }
      ]
    },
    {
      "cell_type": "code",
      "source": [
        "my_list = [1, 2, 3, \"four\", 5.0]\n",
        "print(type(my_list))"
      ],
      "metadata": {
        "colab": {
          "base_uri": "https://localhost:8080/"
        },
        "id": "kn4gw19WYxfD",
        "outputId": "fbae3d1f-3d5d-4fc9-aadd-e816d43089ff"
      },
      "execution_count": 21,
      "outputs": [
        {
          "output_type": "stream",
          "name": "stdout",
          "text": [
            "<class 'list'>\n"
          ]
        }
      ]
    },
    {
      "cell_type": "code",
      "source": [
        "my_tuple = (1, 2, 3)\n",
        "other_tuple = (4, 5)"
      ],
      "metadata": {
        "id": "DRLTBi2xZZab"
      },
      "execution_count": 22,
      "outputs": []
    },
    {
      "cell_type": "markdown",
      "source": [
        "# Example of for loop to iterate over a list\n",
        "fruits = [\"apple\", \"banana\", \"cherry\"]\n",
        "for fruit  in fruits: # for , fruit = each item in fruits (var)\n",
        "    print(fruit) # print(each item)\n",
        "\n",
        "# datatypes = a ,b,c ,0,1,2 ,abc124, 23.4556\n",
        "# \"anjana\" ,\"a\",\"b\", \"123abc\" , \"234\" - string /character\n",
        "# 1,2,3 -integer . -1 ,-2 = signed integer\n",
        "# 23.45 , 3.5 , 78.99999 - float\n",
        "# 12.3456789043 - double\n",
        "# a= [\"anjana\",1 ,\"abc123\",23.45 ] -list ,store different datatype ,modify\n",
        "# b= (\"anjana\",1, \"as34\", 23.56) - tuple , store different datatype , not modifiable"
      ],
      "metadata": {
        "id": "ARRAMP3ZZssb"
      }
    },
    {
      "cell_type": "code",
      "source": [
        "a=[1,2,3,\"abc\",\"abc12\",88.9]\n",
        "for i in a:\n",
        "  print(i)"
      ],
      "metadata": {
        "colab": {
          "base_uri": "https://localhost:8080/"
        },
        "id": "SEJjvozXaGCG",
        "outputId": "bd09308f-6c62-42bc-ebc2-4c85599cbd2a"
      },
      "execution_count": 28,
      "outputs": [
        {
          "output_type": "stream",
          "name": "stdout",
          "text": [
            "1\n",
            "2\n",
            "3\n",
            "abc\n",
            "abc12\n",
            "88.9\n"
          ]
        }
      ]
    },
    {
      "cell_type": "code",
      "source": [
        "i=1\n",
        "while i<=5:\n",
        "  print(i)\n",
        "  i +=1\n",
        "  while True:\n",
        "    print(i)\n",
        "    i +=1\n",
        "    if i>5:\n",
        "      break"
      ],
      "metadata": {
        "colab": {
          "base_uri": "https://localhost:8080/"
        },
        "id": "QDU2KSDZazg7",
        "outputId": "8cbe0e95-c737-4809-d5b2-73408f61faf3"
      },
      "execution_count": 29,
      "outputs": [
        {
          "output_type": "stream",
          "name": "stdout",
          "text": [
            "1\n",
            "2\n",
            "3\n",
            "4\n",
            "5\n"
          ]
        }
      ]
    },
    {
      "cell_type": "code",
      "source": [
        "i = 10 # var = value\n",
        "\n",
        "if i%2 == 0: #if #condition ,if the condition i%2 == 0 (10/2 = remainder 0) satisfies print even\n",
        "  print(\"EVEN\")\n",
        "\n",
        "if i%2 != 0: #if the condition i%2 == 0 (10/2 != remainder 0) satisfies print odd\n",
        "    print(\"ODD\")\n",
        "\n",
        "#example 2\n",
        "a= 10\n",
        "b=20\n",
        "if a<b:\n",
        "  print(\"a is less than b\") #o/p\n",
        "if a>b:\n",
        "  print(\"a is greater than b\")"
      ],
      "metadata": {
        "colab": {
          "base_uri": "https://localhost:8080/"
        },
        "id": "HC2yRxLwbkXc",
        "outputId": "50333f6e-ac25-426b-de97-573d150bb20c"
      },
      "execution_count": 30,
      "outputs": [
        {
          "output_type": "stream",
          "name": "stdout",
          "text": [
            "EVEN\n",
            "a is less than b\n"
          ]
        }
      ]
    },
    {
      "cell_type": "code",
      "source": [
        "# String to Integer\n",
        "age_str = \"25\" # \"\"=character/string if not integer ,decimal .datatype of 25= str  ,type()\n",
        "age_int = int(age_str)\n",
        "print(\"Age as integer:\", age_int)\n",
        "print(\"Type of age_int:\", type(age_int))\n",
        "\n",
        "# String to Float\n",
        "temp_str = \"36.6\"\n",
        "temp_float = float(temp_str) #float(\"36.6\")\n",
        "print(\"Temperature as float:\", temp_float)\n",
        "print(\"Type of temp_float:\", type(temp_float))\n",
        "\n",
        "# Integer to String\n",
        "age_int = 25 #25 =integer ,bcuz we havent used \"\"\n",
        "age_str = str(age_int)\n",
        "print(\"Age as string:\", age_str)\n",
        "print(\"Type of age_str:\", type(age_str))\n",
        "\n",
        "# Float to Integer\n",
        "temp_float = 36.6\n",
        "temp_int = int(temp_float)\n",
        "print(\"Temperature as integer:\", temp_int)\n",
        "print(\"Type of temp_int:\", type(temp_int))\n",
        "\n",
        "# Integer to Boolean\n",
        "value = 1\n",
        "value_bool = bool(value)\n",
        "print(\"Value as boolean:\", value_bool)\n",
        "print(\"Type of value_bool:\", type(value_bool))\n",
        "\n",
        "# String to List\n",
        "string = \"hello\"  # variable =value\n",
        "list1 = [\"hello\", \" all\", \" welcome\", 123 , 34.5 ] # storing heterogenous element - different datatype ,mutable -modify\n",
        "string_list = list(string)\n",
        "print(\"String as list:\", string_list)\n",
        "print(\"Type of string_list:\", type(string_list))\n",
        "\n",
        "# List to Tuple\n",
        "list_example = [1, 2, 3]\n",
        "list_tuple = tuple(list_example) # strore heterogenous element , immutable -can't modify\n",
        "print(\"List as tuple:\", list_tuple)\n",
        "print(\"Type of list_tuple:\", type(list_tuple))\n"
      ],
      "metadata": {
        "colab": {
          "base_uri": "https://localhost:8080/"
        },
        "id": "KUVY1v-wbtMi",
        "outputId": "034e5eab-9ef9-4171-dbaf-bd1e5aa72781"
      },
      "execution_count": 32,
      "outputs": [
        {
          "output_type": "stream",
          "name": "stdout",
          "text": [
            "Age as integer: 25\n",
            "Type of age_int: <class 'int'>\n",
            "Temperature as float: 36.6\n",
            "Type of temp_float: <class 'float'>\n",
            "Age as string: 25\n",
            "Type of age_str: <class 'str'>\n",
            "Temperature as integer: 36\n",
            "Type of temp_int: <class 'int'>\n",
            "Value as boolean: True\n",
            "Type of value_bool: <class 'bool'>\n",
            "String as list: ['h', 'e', 'l', 'l', 'o']\n",
            "Type of string_list: <class 'list'>\n",
            "List as tuple: (1, 2, 3)\n",
            "Type of list_tuple: <class 'tuple'>\n"
          ]
        }
      ]
    }
  ]
}